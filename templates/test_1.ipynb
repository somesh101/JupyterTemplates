{
  "cells": [
    {
      "cell_type": "code",
      "source": [
        "import pandas as pandas\n",
        "# this is test book v1.80"
      ],
      "metadata": {},
      "position": 0
    }
  ],
  "metadata": {
    "language_info": {
      "name": "python"
    },
    "orig_nbformat": 4
  }
}