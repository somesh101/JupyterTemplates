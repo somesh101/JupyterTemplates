{
  "cells": [
    {
      "cell_type": "code",
      "source": [
        "# this is template file for basic data analysis\n",
        "import pandas as pd\n",
        "import numpy as np\n"
      ],
      "metadata": {},
      "position": 0
    },
    {
      "cell_type": "code",
      "source": [],
      "metadata": {},
      "position": 1
    },
    {
      "cell_type": "code",
      "source": [],
      "metadata": {},
      "position": 2
    },
    {
      "cell_type": "code",
      "source": [
        "print(\"hello template\")"
      ],
      "metadata": {},
      "position": 3
    },
    {
      "cell_type": "markdown",
      "source": [
        "this is markdown"
      ],
      "metadata": {},
      "position": 4
    },
    {
      "cell_type": "raw",
      "source": [
        "this is raw"
      ],
      "metadata": {
        "vscode": {
          "languageId": "raw"
        }
      },
      "position": 5
    },
    {
      "cell_type": "raw",
      "source": [],
      "metadata": {},
      "position": 6
    },
    {
      "cell_type": "raw",
      "source": [],
      "metadata": {},
      "position": 7
    },
    {
      "cell_type": "code",
      "source": [
        "\"this is last cell\""
      ],
      "metadata": {},
      "position": 8
    }
  ],
  "metadata": {
    "kernelspec": {
      "display_name": "Python 3",
      "language": "python",
      "name": "python3"
    },
    "language_info": {
      "codemirror_mode": {
        "name": "ipython",
        "version": 3
      },
      "file_extension": ".py",
      "mimetype": "text/x-python",
      "name": "python",
      "nbconvert_exporter": "python",
      "pygments_lexer": "ipython3",
      "version": "3.11.9"
    }
  }
}