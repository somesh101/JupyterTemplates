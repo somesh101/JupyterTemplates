{
  "cells": [
    {
      "cell_type": 1,
      "source": "# this is markdown 1",
      "metadata": {},
      "position": 0
    },
    {
      "cell_type": 2,
      "source": "# this is code",
      "metadata": {},
      "position": 1
    },
    {
      "cell_type": 2,
      "source": "this is raw\r\n",
      "metadata": {},
      "position": 2
    },
    {
      "cell_type": 2,
      "source": "#this is code\r\n\r\nimport nothing",
      "metadata": {},
      "position": 3
    }
  ]
}